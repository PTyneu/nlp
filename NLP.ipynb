{
  "nbformat": 4,
  "nbformat_minor": 0,
  "metadata": {
    "colab": {
      "name": "Копия блокнота \"Untitled4.ipynb\"",
      "provenance": [],
      "collapsed_sections": []
    },
    "kernelspec": {
      "display_name": "Python 3",
      "name": "python3"
    },
    "language_info": {
      "name": "python"
    },
    "widgets": {
      "application/vnd.jupyter.widget-state+json": {
        "9d255094abe94cbeadcdbf2557fb4d63": {
          "model_module": "@jupyter-widgets/controls",
          "model_name": "HBoxModel",
          "model_module_version": "1.5.0",
          "state": {
            "_view_name": "HBoxView",
            "_dom_classes": [],
            "_model_name": "HBoxModel",
            "_view_module": "@jupyter-widgets/controls",
            "_model_module_version": "1.5.0",
            "_view_count": null,
            "_view_module_version": "1.5.0",
            "box_style": "",
            "layout": "IPY_MODEL_de4dac980a294c8a95126210bab0f7e0",
            "_model_module": "@jupyter-widgets/controls",
            "children": [
              "IPY_MODEL_2524b79b60b44504a1603b66c63763f5",
              "IPY_MODEL_5c5c2ca0cd0d4a129ee4c3b2c402a864",
              "IPY_MODEL_6f7355c339a54656aed695ef5272cf47"
            ]
          }
        },
        "de4dac980a294c8a95126210bab0f7e0": {
          "model_module": "@jupyter-widgets/base",
          "model_name": "LayoutModel",
          "model_module_version": "1.2.0",
          "state": {
            "_view_name": "LayoutView",
            "grid_template_rows": null,
            "right": null,
            "justify_content": null,
            "_view_module": "@jupyter-widgets/base",
            "overflow": null,
            "_model_module_version": "1.2.0",
            "_view_count": null,
            "flex_flow": null,
            "width": null,
            "min_width": null,
            "border": null,
            "align_items": null,
            "bottom": null,
            "_model_module": "@jupyter-widgets/base",
            "top": null,
            "grid_column": null,
            "overflow_y": null,
            "overflow_x": null,
            "grid_auto_flow": null,
            "grid_area": null,
            "grid_template_columns": null,
            "flex": null,
            "_model_name": "LayoutModel",
            "justify_items": null,
            "grid_row": null,
            "max_height": null,
            "align_content": null,
            "visibility": null,
            "align_self": null,
            "height": null,
            "min_height": null,
            "padding": null,
            "grid_auto_rows": null,
            "grid_gap": null,
            "max_width": null,
            "order": null,
            "_view_module_version": "1.2.0",
            "grid_template_areas": null,
            "object_position": null,
            "object_fit": null,
            "grid_auto_columns": null,
            "margin": null,
            "display": null,
            "left": null
          }
        },
        "2524b79b60b44504a1603b66c63763f5": {
          "model_module": "@jupyter-widgets/controls",
          "model_name": "HTMLModel",
          "model_module_version": "1.5.0",
          "state": {
            "_view_name": "HTMLView",
            "style": "IPY_MODEL_ce3303dffbd84b10830a8dd2db10c492",
            "_dom_classes": [],
            "description": "",
            "_model_name": "HTMLModel",
            "placeholder": "​",
            "_view_module": "@jupyter-widgets/controls",
            "_model_module_version": "1.5.0",
            "value": "100%",
            "_view_count": null,
            "_view_module_version": "1.5.0",
            "description_tooltip": null,
            "_model_module": "@jupyter-widgets/controls",
            "layout": "IPY_MODEL_b6f804b861bf478ba1c5eece84c57020"
          }
        },
        "5c5c2ca0cd0d4a129ee4c3b2c402a864": {
          "model_module": "@jupyter-widgets/controls",
          "model_name": "FloatProgressModel",
          "model_module_version": "1.5.0",
          "state": {
            "_view_name": "ProgressView",
            "style": "IPY_MODEL_8e3d8ae24825404299c860afab2d6e4e",
            "_dom_classes": [],
            "description": "",
            "_model_name": "FloatProgressModel",
            "bar_style": "success",
            "max": 10,
            "_view_module": "@jupyter-widgets/controls",
            "_model_module_version": "1.5.0",
            "value": 10,
            "_view_count": null,
            "_view_module_version": "1.5.0",
            "orientation": "horizontal",
            "min": 0,
            "description_tooltip": null,
            "_model_module": "@jupyter-widgets/controls",
            "layout": "IPY_MODEL_630e79adefe346aa8fe867616f97f86b"
          }
        },
        "6f7355c339a54656aed695ef5272cf47": {
          "model_module": "@jupyter-widgets/controls",
          "model_name": "HTMLModel",
          "model_module_version": "1.5.0",
          "state": {
            "_view_name": "HTMLView",
            "style": "IPY_MODEL_96b51c4ece904416994911b2f0cf5fad",
            "_dom_classes": [],
            "description": "",
            "_model_name": "HTMLModel",
            "placeholder": "​",
            "_view_module": "@jupyter-widgets/controls",
            "_model_module_version": "1.5.0",
            "value": " 10/10 [12:47&lt;00:00, 76.66s/it]",
            "_view_count": null,
            "_view_module_version": "1.5.0",
            "description_tooltip": null,
            "_model_module": "@jupyter-widgets/controls",
            "layout": "IPY_MODEL_b4bf01ed9b094448a8b5feb0f2a8aa9d"
          }
        },
        "ce3303dffbd84b10830a8dd2db10c492": {
          "model_module": "@jupyter-widgets/controls",
          "model_name": "DescriptionStyleModel",
          "model_module_version": "1.5.0",
          "state": {
            "_view_name": "StyleView",
            "_model_name": "DescriptionStyleModel",
            "description_width": "",
            "_view_module": "@jupyter-widgets/base",
            "_model_module_version": "1.5.0",
            "_view_count": null,
            "_view_module_version": "1.2.0",
            "_model_module": "@jupyter-widgets/controls"
          }
        },
        "b6f804b861bf478ba1c5eece84c57020": {
          "model_module": "@jupyter-widgets/base",
          "model_name": "LayoutModel",
          "model_module_version": "1.2.0",
          "state": {
            "_view_name": "LayoutView",
            "grid_template_rows": null,
            "right": null,
            "justify_content": null,
            "_view_module": "@jupyter-widgets/base",
            "overflow": null,
            "_model_module_version": "1.2.0",
            "_view_count": null,
            "flex_flow": null,
            "width": null,
            "min_width": null,
            "border": null,
            "align_items": null,
            "bottom": null,
            "_model_module": "@jupyter-widgets/base",
            "top": null,
            "grid_column": null,
            "overflow_y": null,
            "overflow_x": null,
            "grid_auto_flow": null,
            "grid_area": null,
            "grid_template_columns": null,
            "flex": null,
            "_model_name": "LayoutModel",
            "justify_items": null,
            "grid_row": null,
            "max_height": null,
            "align_content": null,
            "visibility": null,
            "align_self": null,
            "height": null,
            "min_height": null,
            "padding": null,
            "grid_auto_rows": null,
            "grid_gap": null,
            "max_width": null,
            "order": null,
            "_view_module_version": "1.2.0",
            "grid_template_areas": null,
            "object_position": null,
            "object_fit": null,
            "grid_auto_columns": null,
            "margin": null,
            "display": null,
            "left": null
          }
        },
        "8e3d8ae24825404299c860afab2d6e4e": {
          "model_module": "@jupyter-widgets/controls",
          "model_name": "ProgressStyleModel",
          "model_module_version": "1.5.0",
          "state": {
            "_view_name": "StyleView",
            "_model_name": "ProgressStyleModel",
            "description_width": "",
            "_view_module": "@jupyter-widgets/base",
            "_model_module_version": "1.5.0",
            "_view_count": null,
            "_view_module_version": "1.2.0",
            "bar_color": null,
            "_model_module": "@jupyter-widgets/controls"
          }
        },
        "630e79adefe346aa8fe867616f97f86b": {
          "model_module": "@jupyter-widgets/base",
          "model_name": "LayoutModel",
          "model_module_version": "1.2.0",
          "state": {
            "_view_name": "LayoutView",
            "grid_template_rows": null,
            "right": null,
            "justify_content": null,
            "_view_module": "@jupyter-widgets/base",
            "overflow": null,
            "_model_module_version": "1.2.0",
            "_view_count": null,
            "flex_flow": null,
            "width": null,
            "min_width": null,
            "border": null,
            "align_items": null,
            "bottom": null,
            "_model_module": "@jupyter-widgets/base",
            "top": null,
            "grid_column": null,
            "overflow_y": null,
            "overflow_x": null,
            "grid_auto_flow": null,
            "grid_area": null,
            "grid_template_columns": null,
            "flex": null,
            "_model_name": "LayoutModel",
            "justify_items": null,
            "grid_row": null,
            "max_height": null,
            "align_content": null,
            "visibility": null,
            "align_self": null,
            "height": null,
            "min_height": null,
            "padding": null,
            "grid_auto_rows": null,
            "grid_gap": null,
            "max_width": null,
            "order": null,
            "_view_module_version": "1.2.0",
            "grid_template_areas": null,
            "object_position": null,
            "object_fit": null,
            "grid_auto_columns": null,
            "margin": null,
            "display": null,
            "left": null
          }
        },
        "96b51c4ece904416994911b2f0cf5fad": {
          "model_module": "@jupyter-widgets/controls",
          "model_name": "DescriptionStyleModel",
          "model_module_version": "1.5.0",
          "state": {
            "_view_name": "StyleView",
            "_model_name": "DescriptionStyleModel",
            "description_width": "",
            "_view_module": "@jupyter-widgets/base",
            "_model_module_version": "1.5.0",
            "_view_count": null,
            "_view_module_version": "1.2.0",
            "_model_module": "@jupyter-widgets/controls"
          }
        },
        "b4bf01ed9b094448a8b5feb0f2a8aa9d": {
          "model_module": "@jupyter-widgets/base",
          "model_name": "LayoutModel",
          "model_module_version": "1.2.0",
          "state": {
            "_view_name": "LayoutView",
            "grid_template_rows": null,
            "right": null,
            "justify_content": null,
            "_view_module": "@jupyter-widgets/base",
            "overflow": null,
            "_model_module_version": "1.2.0",
            "_view_count": null,
            "flex_flow": null,
            "width": null,
            "min_width": null,
            "border": null,
            "align_items": null,
            "bottom": null,
            "_model_module": "@jupyter-widgets/base",
            "top": null,
            "grid_column": null,
            "overflow_y": null,
            "overflow_x": null,
            "grid_auto_flow": null,
            "grid_area": null,
            "grid_template_columns": null,
            "flex": null,
            "_model_name": "LayoutModel",
            "justify_items": null,
            "grid_row": null,
            "max_height": null,
            "align_content": null,
            "visibility": null,
            "align_self": null,
            "height": null,
            "min_height": null,
            "padding": null,
            "grid_auto_rows": null,
            "grid_gap": null,
            "max_width": null,
            "order": null,
            "_view_module_version": "1.2.0",
            "grid_template_areas": null,
            "object_position": null,
            "object_fit": null,
            "grid_auto_columns": null,
            "margin": null,
            "display": null,
            "left": null
          }
        }
      }
    }
  },
  "cells": [
    {
      "cell_type": "markdown",
      "metadata": {
        "id": "rNyf90GqPuXZ"
      },
      "source": [
        "# **Импорт и предобработка**"
      ]
    },
    {
      "cell_type": "code",
      "metadata": {
        "colab": {
          "base_uri": "https://localhost:8080/"
        },
        "id": "5zcUQU04_Vzm",
        "outputId": "3765f7e5-e96c-47a3-b548-5cd323c84db4"
      },
      "source": [
        "from google.colab import drive\n",
        "drive.mount('/content/drive')"
      ],
      "execution_count": 1,
      "outputs": [
        {
          "output_type": "stream",
          "name": "stdout",
          "text": [
            "Drive already mounted at /content/drive; to attempt to forcibly remount, call drive.mount(\"/content/drive\", force_remount=True).\n"
          ]
        }
      ]
    },
    {
      "cell_type": "code",
      "metadata": {
        "colab": {
          "base_uri": "https://localhost:8080/"
        },
        "id": "iK7CjFC8C94f",
        "outputId": "b255e360-1ea7-4e8e-ae4e-dd213b83adae"
      },
      "source": [
        "!pip install transformers "
      ],
      "execution_count": 2,
      "outputs": [
        {
          "output_type": "stream",
          "name": "stdout",
          "text": [
            "Requirement already satisfied: transformers in /usr/local/lib/python3.7/dist-packages (4.11.0)\n",
            "Requirement already satisfied: huggingface-hub>=0.0.17 in /usr/local/lib/python3.7/dist-packages (from transformers) (0.0.17)\n",
            "Requirement already satisfied: pyyaml>=5.1 in /usr/local/lib/python3.7/dist-packages (from transformers) (5.4.1)\n",
            "Requirement already satisfied: numpy>=1.17 in /usr/local/lib/python3.7/dist-packages (from transformers) (1.19.5)\n",
            "Requirement already satisfied: tqdm>=4.27 in /usr/local/lib/python3.7/dist-packages (from transformers) (4.62.3)\n",
            "Requirement already satisfied: sacremoses in /usr/local/lib/python3.7/dist-packages (from transformers) (0.0.46)\n",
            "Requirement already satisfied: filelock in /usr/local/lib/python3.7/dist-packages (from transformers) (3.0.12)\n",
            "Requirement already satisfied: packaging>=20.0 in /usr/local/lib/python3.7/dist-packages (from transformers) (21.0)\n",
            "Requirement already satisfied: importlib-metadata in /usr/local/lib/python3.7/dist-packages (from transformers) (4.8.1)\n",
            "Requirement already satisfied: regex!=2019.12.17 in /usr/local/lib/python3.7/dist-packages (from transformers) (2019.12.20)\n",
            "Requirement already satisfied: tokenizers<0.11,>=0.10.1 in /usr/local/lib/python3.7/dist-packages (from transformers) (0.10.3)\n",
            "Requirement already satisfied: requests in /usr/local/lib/python3.7/dist-packages (from transformers) (2.23.0)\n",
            "Requirement already satisfied: typing-extensions in /usr/local/lib/python3.7/dist-packages (from huggingface-hub>=0.0.17->transformers) (3.7.4.3)\n",
            "Requirement already satisfied: pyparsing>=2.0.2 in /usr/local/lib/python3.7/dist-packages (from packaging>=20.0->transformers) (2.4.7)\n",
            "Requirement already satisfied: zipp>=0.5 in /usr/local/lib/python3.7/dist-packages (from importlib-metadata->transformers) (3.5.0)\n",
            "Requirement already satisfied: chardet<4,>=3.0.2 in /usr/local/lib/python3.7/dist-packages (from requests->transformers) (3.0.4)\n",
            "Requirement already satisfied: urllib3!=1.25.0,!=1.25.1,<1.26,>=1.21.1 in /usr/local/lib/python3.7/dist-packages (from requests->transformers) (1.24.3)\n",
            "Requirement already satisfied: idna<3,>=2.5 in /usr/local/lib/python3.7/dist-packages (from requests->transformers) (2.10)\n",
            "Requirement already satisfied: certifi>=2017.4.17 in /usr/local/lib/python3.7/dist-packages (from requests->transformers) (2021.5.30)\n",
            "Requirement already satisfied: six in /usr/local/lib/python3.7/dist-packages (from sacremoses->transformers) (1.15.0)\n",
            "Requirement already satisfied: joblib in /usr/local/lib/python3.7/dist-packages (from sacremoses->transformers) (1.0.1)\n",
            "Requirement already satisfied: click in /usr/local/lib/python3.7/dist-packages (from sacremoses->transformers) (7.1.2)\n"
          ]
        }
      ]
    },
    {
      "cell_type": "code",
      "metadata": {
        "id": "N3SVqV08_awa"
      },
      "source": [
        "import pandas as pd\n",
        "import re\n",
        "from sklearn.feature_extraction.text import CountVectorizer\n",
        "from nltk.stem import WordNetLemmatizer\n",
        "import nltk\n",
        "from nltk.corpus import stopwords \n",
        "from sklearn.feature_extraction.text import TfidfVectorizer\n",
        "from sklearn.model_selection import train_test_split\n",
        "from sklearn.linear_model import LogisticRegression\n",
        "from sklearn.metrics import f1_score\n",
        "from sklearn.metrics import accuracy_score\n",
        "from sklearn.metrics import recall_score\n",
        "from sklearn import svm\n",
        "import lightgbm as lgb\n",
        "from xgboost import XGBClassifier\n",
        "import torch\n",
        "import transformers \n",
        "from sklearn import model_selection, naive_bayes\n",
        "import numpy as np\n",
        "from transformers import BertModel, BertConfig, BertTokenizer\n",
        "from tqdm import notebook\n",
        "from nltk.stem import WordNetLemmatizer \n",
        "from sklearn.metrics import precision_score\n",
        "from sklearn.neural_network import MLPClassifier\n",
        "from sklearn import svm"
      ],
      "execution_count": 3,
      "outputs": []
    },
    {
      "cell_type": "code",
      "metadata": {
        "id": "Rj39su_D_fpX"
      },
      "source": [
        "df=pd.read_csv('/content/drive/MyDrive/NLP test/labeled.csv')\n",
        "df['toxic']=df['toxic'].astype('int')"
      ],
      "execution_count": 4,
      "outputs": []
    },
    {
      "cell_type": "code",
      "metadata": {
        "colab": {
          "base_uri": "https://localhost:8080/"
        },
        "id": "2B87DgZ0AEid",
        "outputId": "fd592bc8-27c0-4874-848c-dc3333222ff3"
      },
      "source": [
        "df['toxic'].value_counts()"
      ],
      "execution_count": 5,
      "outputs": [
        {
          "output_type": "execute_result",
          "data": {
            "text/plain": [
              "0    9586\n",
              "1    4826\n",
              "Name: toxic, dtype: int64"
            ]
          },
          "metadata": {},
          "execution_count": 5
        }
      ]
    },
    {
      "cell_type": "code",
      "metadata": {
        "colab": {
          "base_uri": "https://localhost:8080/"
        },
        "id": "7c-31rjuG12o",
        "outputId": "a583414d-c432-42f2-aa64-594c871bf3b1"
      },
      "source": [
        "nltk.download('wordnet')"
      ],
      "execution_count": 6,
      "outputs": [
        {
          "output_type": "stream",
          "name": "stdout",
          "text": [
            "[nltk_data] Downloading package wordnet to /root/nltk_data...\n",
            "[nltk_data]   Package wordnet is already up-to-date!\n"
          ]
        },
        {
          "output_type": "execute_result",
          "data": {
            "text/plain": [
              "True"
            ]
          },
          "metadata": {},
          "execution_count": 6
        }
      ]
    },
    {
      "cell_type": "code",
      "metadata": {
        "id": "NeTgqyrQKFZw"
      },
      "source": [
        "all_lemm_sentences = []\n",
        "lemmatizer = WordNetLemmatizer()\n",
        "for i in range(df.shape[0]):\n",
        "    sentence = df.loc[i]['comment']\n",
        "    word_list = re.sub(r'[^a-zA-Zа-яА-ЯёЁ ]', ' ', df.loc[i]['comment']).split()\n",
        "    lemmatized_output =  ' '.join([lemmatizer.lemmatize(w) for w in word_list])\n",
        "    lemmatized_output=str(lemmatized_output).lower()\n",
        "    all_lemm_sentences.append(lemmatized_output)"
      ],
      "execution_count": 7,
      "outputs": []
    },
    {
      "cell_type": "code",
      "metadata": {
        "id": "qFz6zNAULYd3"
      },
      "source": [
        "df['clear']=all_lemm_sentences"
      ],
      "execution_count": 8,
      "outputs": []
    },
    {
      "cell_type": "code",
      "metadata": {
        "colab": {
          "base_uri": "https://localhost:8080/",
          "height": 35
        },
        "id": "HVfJ7B2yLqyG",
        "outputId": "f3d49c9e-0cd2-4869-d8a0-c003df8d490e"
      },
      "source": [
        "df['clear'][1]"
      ],
      "execution_count": 9,
      "outputs": [
        {
          "output_type": "execute_result",
          "data": {
            "application/vnd.google.colaboratory.intrinsic+json": {
              "type": "string"
            },
            "text/plain": [
              "'хохлы это отдушина затюканого россиянина мол вон а у хохлов еще хуже если бы хохлов не было кисель их бы придумал'"
            ]
          },
          "metadata": {},
          "execution_count": 9
        }
      ]
    },
    {
      "cell_type": "code",
      "metadata": {
        "colab": {
          "base_uri": "https://localhost:8080/"
        },
        "id": "J0FGdNc9JQaD",
        "outputId": "efe68e66-b7f1-46f8-ff2c-2c60519da626"
      },
      "source": [
        "train, test = train_test_split(df, test_size=0.25, random_state=123, stratify=df['toxic'])\n",
        "print(train['toxic'].value_counts())\n",
        "print(test['toxic'].value_counts())"
      ],
      "execution_count": 10,
      "outputs": [
        {
          "output_type": "stream",
          "name": "stdout",
          "text": [
            "0    7189\n",
            "1    3620\n",
            "Name: toxic, dtype: int64\n",
            "0    2397\n",
            "1    1206\n",
            "Name: toxic, dtype: int64\n"
          ]
        }
      ]
    },
    {
      "cell_type": "code",
      "metadata": {
        "colab": {
          "base_uri": "https://localhost:8080/"
        },
        "id": "o9PsEXKkO8P3",
        "outputId": "87891d32-2fda-4ff3-fdc3-51aefa3fa769"
      },
      "source": [
        "nltk.download('stopwords')\n",
        "stop_words = set(stopwords.words('russian'))"
      ],
      "execution_count": 11,
      "outputs": [
        {
          "output_type": "stream",
          "name": "stdout",
          "text": [
            "[nltk_data] Downloading package stopwords to /root/nltk_data...\n",
            "[nltk_data]   Package stopwords is already up-to-date!\n"
          ]
        }
      ]
    },
    {
      "cell_type": "code",
      "metadata": {
        "id": "dS8DvHdQNWe5"
      },
      "source": [
        "train_target=train['toxic']\n",
        "train_corpus=train['clear']\n",
        "count_tf_idf = TfidfVectorizer(stop_words=stop_words)\n",
        "train_features = count_tf_idf.fit_transform(train_corpus) \n",
        "test_target=test['toxic']\n",
        "test_corpus=test['clear']\n",
        "test_features = count_tf_idf.transform(test_corpus) "
      ],
      "execution_count": 12,
      "outputs": []
    },
    {
      "cell_type": "code",
      "metadata": {
        "colab": {
          "base_uri": "https://localhost:8080/"
        },
        "id": "39H9KhX7SI8q",
        "outputId": "2dd25a6e-791d-4412-de66-21e4b13d68f3"
      },
      "source": [
        "train_features.shape"
      ],
      "execution_count": 13,
      "outputs": [
        {
          "output_type": "execute_result",
          "data": {
            "text/plain": [
              "(10809, 55606)"
            ]
          },
          "metadata": {},
          "execution_count": 13
        }
      ]
    },
    {
      "cell_type": "code",
      "metadata": {
        "colab": {
          "base_uri": "https://localhost:8080/"
        },
        "id": "_27a3zRySX8e",
        "outputId": "76116eb2-2971-4b6b-d449-0c3167975f91"
      },
      "source": [
        "train_target.shape"
      ],
      "execution_count": 14,
      "outputs": [
        {
          "output_type": "execute_result",
          "data": {
            "text/plain": [
              "(10809,)"
            ]
          },
          "metadata": {},
          "execution_count": 14
        }
      ]
    },
    {
      "cell_type": "code",
      "metadata": {
        "id": "KnH7bbaVNoFN"
      },
      "source": [
        "#чтоб не ебаться с обучением и скорами\n",
        "def fit_predict(model):\n",
        "    model.fit(train_features, train_target)\n",
        "    predict=model.predict(test_features)\n",
        "    f1=f1_score(test_target, predict)\n",
        "    precision=precision_score(test_target, predict)\n",
        "    accuracy=accuracy_score(test_target, predict)\n",
        "    recall=recall_score(test_target, predict)\n",
        "    print(\"Model recall:\", recall)\n",
        "    print(\"Model accuracy:\", accuracy)\n",
        "    print(\"Model precision:\", precision)\n",
        "    print(\"F1 модели на тестовой выборке:\", f1)"
      ],
      "execution_count": 15,
      "outputs": []
    },
    {
      "cell_type": "markdown",
      "metadata": {
        "id": "CMoC2ntpPh6f"
      },
      "source": [
        "# **Обучение моделей**"
      ]
    },
    {
      "cell_type": "code",
      "metadata": {
        "colab": {
          "base_uri": "https://localhost:8080/"
        },
        "id": "d1i0NNnMOCaI",
        "outputId": "257b574f-e36b-447b-b4af-5b840ac13de7"
      },
      "source": [
        "model=LogisticRegression(max_iter=10000, random_state=123)\n",
        "fit_predict(model)"
      ],
      "execution_count": 16,
      "outputs": [
        {
          "output_type": "stream",
          "name": "stdout",
          "text": [
            "Model recall: 0.45439469320066334\n",
            "Model accuracy: 0.8037746322509021\n",
            "Model precision: 0.9179229480737019\n",
            "F1 модели на тестовой выборке: 0.6078757626178591\n"
          ]
        }
      ]
    },
    {
      "cell_type": "code",
      "metadata": {
        "colab": {
          "base_uri": "https://localhost:8080/"
        },
        "id": "IT2lc_n8RS3h",
        "outputId": "a58f8809-dddc-48a4-8575-671725a4a732"
      },
      "source": [
        "model_lgb=lgb.LGBMClassifier(boosting_type='gbdt',  max_depth=10, \n",
        "                             learning_rate=0.0001, n_estimators=5000, class_weight='balanced')\n",
        "fit_predict(model_lgb)"
      ],
      "execution_count": 17,
      "outputs": [
        {
          "output_type": "stream",
          "name": "stdout",
          "text": [
            "Model recall: 0.8441127694859039\n",
            "Model accuracy: 0.5384401887316126\n",
            "Model precision: 0.4083433614119535\n",
            "F1 модели на тестовой выборке: 0.550419032170857\n"
          ]
        }
      ]
    },
    {
      "cell_type": "code",
      "metadata": {
        "colab": {
          "base_uri": "https://localhost:8080/"
        },
        "id": "DT0VT9q6TQGW",
        "outputId": "2f3c8505-dcf9-4fa9-de22-a7a2289371fb"
      },
      "source": [
        "model_xg=XGBClassifier(eta=0.1, max_depth= 10,\n",
        "                       sampling_method = 'gradient_based', class_weight='balanced')\n",
        "fit_predict(model_xg)"
      ],
      "execution_count": 18,
      "outputs": [
        {
          "output_type": "stream",
          "name": "stdout",
          "text": [
            "Model recall: 0.2860696517412935\n",
            "Model accuracy: 0.7474326949764085\n",
            "Model precision: 0.8756345177664975\n",
            "F1 модели на тестовой выборке: 0.43124999999999997\n"
          ]
        }
      ]
    },
    {
      "cell_type": "code",
      "metadata": {
        "colab": {
          "base_uri": "https://localhost:8080/"
        },
        "id": "VmepLTVc-BPd",
        "outputId": "5a595a3a-9653-4c0b-a039-2b7ffaed50ef"
      },
      "source": [
        "clf = MLPClassifier(solver='sgd', alpha=1e-4, hidden_layer_sizes=(16, 1), random_state=123,\n",
        "                     warm_start=True, max_iter=10000)\n",
        "fit_predict(clf)"
      ],
      "execution_count": 19,
      "outputs": [
        {
          "output_type": "stream",
          "name": "stdout",
          "text": [
            "Model recall: 0.0\n",
            "Model accuracy: 0.6652789342214821\n",
            "Model precision: 0.0\n",
            "F1 модели на тестовой выборке: 0.0\n"
          ]
        },
        {
          "output_type": "stream",
          "name": "stderr",
          "text": [
            "/usr/local/lib/python3.7/dist-packages/sklearn/metrics/_classification.py:1272: UndefinedMetricWarning: Precision is ill-defined and being set to 0.0 due to no predicted samples. Use `zero_division` parameter to control this behavior.\n",
            "  _warn_prf(average, modifier, msg_start, len(result))\n"
          ]
        }
      ]
    },
    {
      "cell_type": "code",
      "metadata": {
        "colab": {
          "base_uri": "https://localhost:8080/"
        },
        "id": "grEhzy-39yW4",
        "outputId": "7e01397a-04ff-4890-b590-f170389eba9d"
      },
      "source": [
        "svm= svm.SVC(kernel='linear', gamma=\"auto\")\n",
        "fit_predict(svm)"
      ],
      "execution_count": 20,
      "outputs": [
        {
          "output_type": "stream",
          "name": "stdout",
          "text": [
            "Model recall: 0.6600331674958541\n",
            "Model accuracy: 0.8498473494310297\n",
            "Model precision: 0.8586839266450917\n",
            "F1 модели на тестовой выборке: 0.7463666197843413\n"
          ]
        }
      ]
    },
    {
      "cell_type": "markdown",
      "metadata": {
        "id": "4Da0kBkwYD5g"
      },
      "source": [
        "# **Сезам**"
      ]
    },
    {
      "cell_type": "code",
      "metadata": {
        "colab": {
          "base_uri": "https://localhost:8080/"
        },
        "id": "o4wvsBWpX--J",
        "outputId": "261cc597-ee50-4991-c0b2-64a6f12acca2"
      },
      "source": [
        "tokenizer = transformers.DistilBertTokenizer.from_pretrained('distilbert-base-uncased')\n",
        "config = transformers.DistilBertConfig.from_pretrained('distilbert-base-uncased')\n",
        "model = transformers.DistilBertModel.from_pretrained('distilbert-base-uncased', config=config)"
      ],
      "execution_count": 21,
      "outputs": [
        {
          "output_type": "stream",
          "name": "stderr",
          "text": [
            "/usr/local/lib/python3.7/dist-packages/transformers/configuration_utils.py:337: UserWarning: Passing `gradient_checkpointing` to a config initialization is deprecated and will be removed in v5 Transformers. Using `model.gradient_checkpointing_enable()` instead, or if you are using the `Trainer` API, pass `gradient_checkpointing=True` in your `TrainingArguments`.\n",
            "  \"Passing `gradient_checkpointing` to a config initialization is deprecated and will be removed in v5 \"\n",
            "Some weights of the model checkpoint at distilbert-base-uncased were not used when initializing DistilBertModel: ['vocab_projector.bias', 'vocab_layer_norm.bias', 'vocab_projector.weight', 'vocab_transform.weight', 'vocab_transform.bias', 'vocab_layer_norm.weight']\n",
            "- This IS expected if you are initializing DistilBertModel from the checkpoint of a model trained on another task or with another architecture (e.g. initializing a BertForSequenceClassification model from a BertForPreTraining model).\n",
            "- This IS NOT expected if you are initializing DistilBertModel from the checkpoint of a model that you expect to be exactly identical (initializing a BertForSequenceClassification model from a BertForSequenceClassification model).\n"
          ]
        }
      ]
    },
    {
      "cell_type": "code",
      "metadata": {
        "id": "GxqCQNjCYVWI"
      },
      "source": [
        "def features_embeddings(features, batch_size):\n",
        "\n",
        "  tokenized = features.apply((lambda x: tokenizer.encode(x, max_length=512, add_special_tokens=True, truncation=True)))\n",
        "  max_len = 0\n",
        "  for i in tokenized.values:\n",
        "    if len(i) > max_len:\n",
        "        max_len = len(i) \n",
        "  padded = np.array([i + [0]*(max_len - len(i)) for i in tokenized.values])\n",
        "  attention_mask = np.where(padded != 0, 1, 0)\n",
        "\n",
        "  embeddings = []\n",
        "  for i in notebook.tqdm(range(padded.shape[0] // batch_size)):\n",
        "    batch = torch.LongTensor(padded[batch_size*i:batch_size*(i+1)]) \n",
        "    attention_mask_batch = torch.LongTensor(attention_mask[batch_size*i:batch_size*(i+1)])\n",
        "        \n",
        "    with torch.no_grad():\n",
        "      batch_embeddings = model(batch, attention_mask=attention_mask_batch)\n",
        "        \n",
        "    embeddings.append(batch_embeddings[0][:,0,:].numpy())\n",
        "\n",
        "\n",
        "\n",
        "  features_from_embeddings = np.concatenate(embeddings)\n",
        "\n",
        "  return features_from_embeddings"
      ],
      "execution_count": 22,
      "outputs": []
    },
    {
      "cell_type": "code",
      "metadata": {
        "colab": {
          "base_uri": "https://localhost:8080/",
          "height": 49,
          "referenced_widgets": [
            "9d255094abe94cbeadcdbf2557fb4d63",
            "de4dac980a294c8a95126210bab0f7e0",
            "2524b79b60b44504a1603b66c63763f5",
            "5c5c2ca0cd0d4a129ee4c3b2c402a864",
            "6f7355c339a54656aed695ef5272cf47",
            "ce3303dffbd84b10830a8dd2db10c492",
            "b6f804b861bf478ba1c5eece84c57020",
            "8e3d8ae24825404299c860afab2d6e4e",
            "630e79adefe346aa8fe867616f97f86b",
            "96b51c4ece904416994911b2f0cf5fad",
            "b4bf01ed9b094448a8b5feb0f2a8aa9d"
          ]
        },
        "id": "Kgvik-SAeu8L",
        "outputId": "679c4841-98c7-46a6-a6fd-5fb13c7838a6"
      },
      "source": [
        "features = df['comment'][:1000]\n",
        "target = df['toxic'][:1000]\n",
        "features_embeddings = features_embeddings(features, 100)\n",
        "features_embeddings = pd.DataFrame(features_embeddings)"
      ],
      "execution_count": 23,
      "outputs": [
        {
          "output_type": "display_data",
          "data": {
            "application/vnd.jupyter.widget-view+json": {
              "model_id": "9d255094abe94cbeadcdbf2557fb4d63",
              "version_minor": 0,
              "version_major": 2
            },
            "text/plain": [
              "  0%|          | 0/10 [00:00<?, ?it/s]"
            ]
          },
          "metadata": {}
        }
      ]
    },
    {
      "cell_type": "code",
      "metadata": {
        "id": "zUQQVZeBZa1s"
      },
      "source": [
        "features=features_embeddings"
      ],
      "execution_count": 24,
      "outputs": []
    },
    {
      "cell_type": "code",
      "metadata": {
        "id": "8OJTREDIdWDF"
      },
      "source": [
        "train_features, test_features, train_target, test_target = train_test_split(features, target, test_size=0.33, random_state=1234, stratify=target)"
      ],
      "execution_count": 25,
      "outputs": []
    },
    {
      "cell_type": "code",
      "metadata": {
        "colab": {
          "base_uri": "https://localhost:8080/"
        },
        "id": "mM3MXAAEi0h0",
        "outputId": "a15517e4-3ed9-427f-b964-ba86c6be68df"
      },
      "source": [
        "model=LogisticRegression(max_iter=10000, random_state=123)\n",
        "fit_predict(model)\n"
      ],
      "execution_count": 26,
      "outputs": [
        {
          "output_type": "stream",
          "name": "stdout",
          "text": [
            "Model recall: 0.8341708542713567\n",
            "Model accuracy: 0.6393939393939394\n",
            "Model precision: 0.6587301587301587\n",
            "F1 модели на тестовой выборке: 0.7361419068736141\n"
          ]
        }
      ]
    },
    {
      "cell_type": "code",
      "metadata": {
        "colab": {
          "base_uri": "https://localhost:8080/"
        },
        "id": "iZmKW_W3jQiQ",
        "outputId": "da86e8c3-439b-43f2-d2c6-80c4d45c689d"
      },
      "source": [
        "model_lgb=lgb.LGBMClassifier(boosting_type='gbdt',  max_depth=10, \n",
        "                             learning_rate=0.005, n_estimators=5000, loss='log')\n",
        "fit_predict(model_lgb)"
      ],
      "execution_count": 27,
      "outputs": [
        {
          "output_type": "stream",
          "name": "stdout",
          "text": [
            "Model recall: 0.8190954773869347\n",
            "Model accuracy: 0.6333333333333333\n",
            "Model precision: 0.657258064516129\n",
            "F1 модели на тестовой выборке: 0.7293064876957494\n"
          ]
        }
      ]
    },
    {
      "cell_type": "code",
      "metadata": {
        "id": "dgy0aksQ93PE",
        "colab": {
          "base_uri": "https://localhost:8080/"
        },
        "outputId": "e0d0f1c5-7de6-49d7-c9b6-76edd46cdc1c"
      },
      "source": [
        "model_xg=XGBClassifier(eta=0.1, max_depth= 10,\n",
        "                       sampling_method = 'gradient_based', class_weight='balanced')\n",
        "fit_predict(model_xg)"
      ],
      "execution_count": 28,
      "outputs": [
        {
          "output_type": "stream",
          "name": "stdout",
          "text": [
            "Model recall: 0.8040201005025126\n",
            "Model accuracy: 0.6303030303030303\n",
            "Model precision: 0.6584362139917695\n",
            "F1 модели на тестовой выборке: 0.7239819004524888\n"
          ]
        }
      ]
    },
    {
      "cell_type": "code",
      "metadata": {
        "id": "mxhtKwhBkwEk",
        "colab": {
          "base_uri": "https://localhost:8080/"
        },
        "outputId": "87c221e8-50a5-490b-d1df-a40e00ded380"
      },
      "source": [
        "clf = MLPClassifier(solver='sgd', alpha=1e-4, hidden_layer_sizes=(16, 1), random_state=123,\n",
        "                     warm_start=True, max_iter=100000)\n",
        "fit_predict(clf)"
      ],
      "execution_count": 29,
      "outputs": [
        {
          "output_type": "stream",
          "name": "stdout",
          "text": [
            "Model recall: 0.8693467336683417\n",
            "Model accuracy: 0.6545454545454545\n",
            "Model precision: 0.6628352490421456\n",
            "F1 модели на тестовой выборке: 0.7521739130434782\n"
          ]
        }
      ]
    },
    {
      "cell_type": "code",
      "metadata": {
        "id": "EMo4c_UIl9D1",
        "colab": {
          "base_uri": "https://localhost:8080/",
          "height": 232
        },
        "outputId": "5ac0e1ae-e396-4e58-dd74-39cc86d4bff1"
      },
      "source": [
        "# for kernel in ('linear','poly', 'rbf'):\n",
        "#     classifier_svm = svm.SVC(kernel=kernel, C=1)\n",
        "#     classifier_svm.fit(train_features, train_target)\n",
        "#     predict=classifier_svm.predict(test_features)\n",
        "#     print(\"testing success ratio with \"+ kernel + \"kernel :\" + str(accuracy_score(test_target, predict)))\n"
      ],
      "execution_count": 33,
      "outputs": [
        {
          "output_type": "error",
          "ename": "AttributeError",
          "evalue": "ignored",
          "traceback": [
            "\u001b[0;31m---------------------------------------------------------------------------\u001b[0m",
            "\u001b[0;31mAttributeError\u001b[0m                            Traceback (most recent call last)",
            "\u001b[0;32m<ipython-input-33-f77f8be61d77>\u001b[0m in \u001b[0;36m<module>\u001b[0;34m()\u001b[0m\n\u001b[1;32m      1\u001b[0m \u001b[0;32mfor\u001b[0m \u001b[0mkernel\u001b[0m \u001b[0;32min\u001b[0m \u001b[0;34m(\u001b[0m\u001b[0;34m'linear'\u001b[0m\u001b[0;34m,\u001b[0m\u001b[0;34m'poly'\u001b[0m\u001b[0;34m,\u001b[0m \u001b[0;34m'rbf'\u001b[0m\u001b[0;34m)\u001b[0m\u001b[0;34m:\u001b[0m\u001b[0;34m\u001b[0m\u001b[0;34m\u001b[0m\u001b[0m\n\u001b[0;32m----> 2\u001b[0;31m     \u001b[0mclassifier_svm\u001b[0m \u001b[0;34m=\u001b[0m \u001b[0msvm\u001b[0m\u001b[0;34m.\u001b[0m\u001b[0mSVC\u001b[0m\u001b[0;34m(\u001b[0m\u001b[0mkernel\u001b[0m\u001b[0;34m=\u001b[0m\u001b[0mkernel\u001b[0m\u001b[0;34m,\u001b[0m \u001b[0mC\u001b[0m\u001b[0;34m=\u001b[0m\u001b[0;36m1\u001b[0m\u001b[0;34m)\u001b[0m\u001b[0;34m\u001b[0m\u001b[0;34m\u001b[0m\u001b[0m\n\u001b[0m\u001b[1;32m      3\u001b[0m     \u001b[0mclassifier_svm\u001b[0m\u001b[0;34m.\u001b[0m\u001b[0mfit\u001b[0m\u001b[0;34m(\u001b[0m\u001b[0mtrain_features\u001b[0m\u001b[0;34m,\u001b[0m \u001b[0mtrain_target\u001b[0m\u001b[0;34m)\u001b[0m\u001b[0;34m\u001b[0m\u001b[0;34m\u001b[0m\u001b[0m\n\u001b[1;32m      4\u001b[0m     \u001b[0mpredict\u001b[0m\u001b[0;34m=\u001b[0m\u001b[0mclassifier_svm\u001b[0m\u001b[0;34m.\u001b[0m\u001b[0mpredict\u001b[0m\u001b[0;34m(\u001b[0m\u001b[0mtest_features\u001b[0m\u001b[0;34m)\u001b[0m\u001b[0;34m\u001b[0m\u001b[0;34m\u001b[0m\u001b[0m\n\u001b[1;32m      5\u001b[0m     \u001b[0mprint\u001b[0m\u001b[0;34m(\u001b[0m\u001b[0;34m\"testing success ratio with \"\u001b[0m\u001b[0;34m+\u001b[0m \u001b[0mkernel\u001b[0m \u001b[0;34m+\u001b[0m \u001b[0;34m\"kernel :\"\u001b[0m \u001b[0;34m+\u001b[0m \u001b[0mstr\u001b[0m\u001b[0;34m(\u001b[0m\u001b[0maccuracy_score\u001b[0m\u001b[0;34m(\u001b[0m\u001b[0mtest_target\u001b[0m\u001b[0;34m,\u001b[0m \u001b[0mpredict\u001b[0m\u001b[0;34m)\u001b[0m\u001b[0;34m)\u001b[0m\u001b[0;34m)\u001b[0m\u001b[0;34m\u001b[0m\u001b[0;34m\u001b[0m\u001b[0m\n",
            "\u001b[0;31mAttributeError\u001b[0m: 'SVC' object has no attribute 'SVC'"
          ]
        }
      ]
    }
  ]
}